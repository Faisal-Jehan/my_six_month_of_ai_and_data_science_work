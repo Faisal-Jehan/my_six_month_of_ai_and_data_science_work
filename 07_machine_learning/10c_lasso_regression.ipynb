{
 "cells": [
  {
   "cell_type": "markdown",
   "metadata": {},
   "source": [
    "# Implementataion in Scikit-Learn:"
   ]
  },
  {
   "cell_type": "markdown",
   "metadata": {},
   "source": [
    "Lasso regression can be implemented using the `Lasso` class from Scikit-Learn's `Linear_model` module.Here's a basic example:"
   ]
  },
  {
   "cell_type": "code",
   "execution_count": 14,
   "metadata": {},
   "outputs": [
    {
     "name": "stdout",
     "output_type": "stream",
     "text": [
      "MSE of Lasoo: 1.925917420334479\n",
      "MSE of Ridge: 0.00998430186019241\n"
     ]
    }
   ],
   "source": [
    "# import libraries \n",
    "from sklearn.linear_model import Lasso, Ridge\n",
    "from sklearn.datasets import make_regression\n",
    "from sklearn.model_selection import train_test_split\n",
    "from sklearn.metrics import mean_squared_error\n",
    "\n",
    "# generate some regression data \n",
    "X, y = make_regression(n_samples=10000, n_features=2, noise=0.1, random_state=42)\n",
    "\n",
    "# split the data into training and test sets\n",
    "X_train, X_test, y_train, y_test = train_test_split(X, y, test_size=0.2, random_state=42)\n",
    "\n",
    "# create a lasso regression object \n",
    "lasso = Lasso(alpha=1.0)\n",
    "ridge = Ridge(alpha=1.0)\n",
    "\n",
    "# fit the model\n",
    "lasso.fit(X_train, y_train)\n",
    "ridge.fit(X_train, y_train)\n",
    "\n",
    "# make a predictions\n",
    "y_pred_lasso = lasso.predict(X_test)\n",
    "y_pred_ridge = ridge.predict(X_test)\n",
    "\n",
    "# evaluate the model \n",
    "print(\"MSE of Lasoo:\", mean_squared_error(y_test, y_pred_lasso))\n",
    "print(\"MSE of Ridge:\", mean_squared_error(y_test, y_pred_ridge))"
   ]
  },
  {
   "cell_type": "markdown",
   "metadata": {},
   "source": [
    "In this example, `alpha` is the parameter that controls the amount of L1 regularization applied to the model.Fine-tuning `alpha` through techniques like cross-validation is a common practice to find the best model."
   ]
  },
  {
   "cell_type": "code",
   "execution_count": 15,
   "metadata": {},
   "outputs": [
    {
     "name": "stdout",
     "output_type": "stream",
     "text": [
      "Tuned Lasso Regression Parameters: {'alpha': 1.0}\n",
      "Best score is 0.9997905849860695\n",
      "Tuned Ridge Regression Parameters: {'alpha': 1.0}\n",
      "Best score is 0.9999989628734012:\n"
     ]
    }
   ],
   "source": [
    "# find tune alpha value using cv\n",
    "from sklearn.model_selection import GridSearchCV\n",
    "import numpy as np\n",
    "\n",
    "# create a Lasso regression object\n",
    "lasso = Lasso()\n",
    "\n",
    "# create a dictionary for the grid search key and values\n",
    "param_grid = {'alpha' : np.arange(1, 10, 0.1)}\n",
    "\n",
    "# use grid search to find the best value for alpha\n",
    "lasso_cv = GridSearchCV(lasso, param_grid, cv=10)\n",
    "\n",
    "# fit the model \n",
    "lasso_cv.fit(X, y)\n",
    "\n",
    "# print the tuned parameters and score \n",
    "print(\"Tuned Lasso Regression Parameters: {}\".format(lasso_cv.best_params_))\n",
    "print(\"Best score is {}\".format(lasso_cv.best_score_))\n",
    "\n",
    "# create a Ridge Regression object\n",
    "ridge = Ridge()\n",
    "\n",
    "# create a dictionary for the grid search key and values\n",
    "param_grid = {'alpha': np.arange(1, 10, 0.1)}\n",
    "\n",
    "# use grid search to find the best value for value\n",
    "ridge_cv = GridSearchCV(ridge, param_grid, cv=10)\n",
    "\n",
    "# fit the model\n",
    "ridge_cv.fit(X, y)\n",
    "\n",
    "# print the tuned parameters and score\n",
    "print(\"Tuned Ridge Regression Parameters: {}\".format(ridge_cv.best_params_))\n",
    "print(\"Best score is {}:\".format(ridge_cv.best_score_))"
   ]
  },
  {
   "cell_type": "markdown",
   "metadata": {},
   "source": [
    "# Assignment Alert: Find out what is L1 or L2 regularization?"
   ]
  },
  {
   "cell_type": "markdown",
   "metadata": {},
   "source": [
    "# Completed"
   ]
  },
  {
   "cell_type": "markdown",
   "metadata": {},
   "source": [
    "---"
   ]
  }
 ],
 "metadata": {
  "kernelspec": {
   "display_name": "python_ml",
   "language": "python",
   "name": "python3"
  },
  "language_info": {
   "codemirror_mode": {
    "name": "ipython",
    "version": 3
   },
   "file_extension": ".py",
   "mimetype": "text/x-python",
   "name": "python",
   "nbconvert_exporter": "python",
   "pygments_lexer": "ipython3",
   "version": "3.11.7"
  }
 },
 "nbformat": 4,
 "nbformat_minor": 2
}

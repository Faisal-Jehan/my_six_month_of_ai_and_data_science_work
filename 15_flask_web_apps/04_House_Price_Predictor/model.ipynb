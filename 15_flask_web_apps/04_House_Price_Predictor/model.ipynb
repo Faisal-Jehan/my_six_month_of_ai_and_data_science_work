{
 "cells": [
  {
   "cell_type": "code",
   "execution_count": 7,
   "metadata": {},
   "outputs": [],
   "source": [
    "import pandas as pd\n",
    "from sklearn.linear_model import LinearRegression\n",
    "import pickle\n",
    "df=pd.read_json('Data/House_Price.json')\n",
    "df.head()\n",
    "X=df['Area(in sq. ft)'].values.reshape(-1, 1)\n",
    "y=df['Price(in Rs.)'].values.reshape(-1, 1)\n",
    "model=LinearRegression()\n",
    "model.fit(X,y)\n",
    "pickle.dump(model,open('model.pkl','wb'))"
   ]
  }
 ],
 "metadata": {
  "kernelspec": {
   "display_name": "flask_env",
   "language": "python",
   "name": "python3"
  },
  "language_info": {
   "codemirror_mode": {
    "name": "ipython",
    "version": 3
   },
   "file_extension": ".py",
   "mimetype": "text/x-python",
   "name": "python",
   "nbconvert_exporter": "python",
   "pygments_lexer": "ipython3",
   "version": "3.11.9"
  }
 },
 "nbformat": 4,
 "nbformat_minor": 2
}
